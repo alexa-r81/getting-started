{
 "cells": [
  {
   "cell_type": "code",
   "execution_count": 7,
   "id": "cb33c144",
   "metadata": {},
   "outputs": [
    {
     "name": "stdout",
     "output_type": "stream",
     "text": [
      "hello world\n"
     ]
    }
   ],
   "source": [
    "print('hello world')"
   ]
  },
  {
   "cell_type": "code",
   "execution_count": 12,
   "id": "cb8ecca5",
   "metadata": {},
   "outputs": [
    {
     "name": "stdout",
     "output_type": "stream",
     "text": [
      "How are you doing today, Alexa?\n"
     ]
    }
   ],
   "source": [
    "def question(name):\n",
    "    print('How are you doing today, ' + name + '?')\n",
    "    \n",
    "question('Alexa')"
   ]
  },
  {
   "cell_type": "code",
   "execution_count": 15,
   "id": "88b9f641",
   "metadata": {},
   "outputs": [
    {
     "name": "stdout",
     "output_type": "stream",
     "text": [
      "Hello, Queen Elizabeth\n"
     ]
    }
   ],
   "source": [
    "def greet(name):\n",
    "    print('Hello, ' + name)\n",
    "    \n",
    "greet('Queen Elizabeth')"
   ]
  },
  {
   "cell_type": "code",
   "execution_count": 16,
   "id": "e9f9252b",
   "metadata": {},
   "outputs": [
    {
     "name": "stdout",
     "output_type": "stream",
     "text": [
      "How are you doing today, Queen Elizabeth?\n"
     ]
    }
   ],
   "source": [
    "question('Queen Elizabeth')"
   ]
  },
  {
   "cell_type": "code",
   "execution_count": 17,
   "id": "242f7eb3",
   "metadata": {},
   "outputs": [
    {
     "name": "stdout",
     "output_type": "stream",
     "text": [
      "How are you doing today, Prof. Green?\n"
     ]
    }
   ],
   "source": [
    "question('Prof. Green')"
   ]
  },
  {
   "cell_type": "code",
   "execution_count": 19,
   "id": "12df304b",
   "metadata": {},
   "outputs": [
    {
     "name": "stdout",
     "output_type": "stream",
     "text": [
      "4\n"
     ]
    }
   ],
   "source": [
    "def add(x, y, z):\n",
    "    print(x + y + z)\n",
    "    \n",
    "add(1, 1, 2)"
   ]
  },
  {
   "cell_type": "code",
   "execution_count": 20,
   "id": "5a8ddad9",
   "metadata": {},
   "outputs": [
    {
     "name": "stdout",
     "output_type": "stream",
     "text": [
      "214030\n"
     ]
    }
   ],
   "source": [
    "add(2342, 7756, 203932)"
   ]
  },
  {
   "cell_type": "code",
   "execution_count": 21,
   "id": "9d13da08",
   "metadata": {},
   "outputs": [
    {
     "name": "stdout",
     "output_type": "stream",
     "text": [
      "12471884\n"
     ]
    }
   ],
   "source": [
    "add(5689348, 3290493, 3492043)"
   ]
  }
 ],
 "metadata": {
  "kernelspec": {
   "display_name": "Python 3 (ipykernel)",
   "language": "python",
   "name": "python3"
  },
  "language_info": {
   "codemirror_mode": {
    "name": "ipython",
    "version": 3
   },
   "file_extension": ".py",
   "mimetype": "text/x-python",
   "name": "python",
   "nbconvert_exporter": "python",
   "pygments_lexer": "ipython3",
   "version": "3.9.12"
  }
 },
 "nbformat": 4,
 "nbformat_minor": 5
}
